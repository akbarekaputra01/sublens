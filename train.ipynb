{
 "cells": [
  {
   "cell_type": "markdown",
   "id": "9fcb8754",
   "metadata": {},
   "source": [
    "# ASL Recognition Model Training\n",
    "## Using MediaPipe Landmarks for Alphabet and Number Classification"
   ]
  },
  {
   "cell_type": "code",
   "execution_count": 1,
   "id": "d0ee2e3b",
   "metadata": {},
   "outputs": [],
   "source": [
    "import pickle\n",
    "import numpy as np\n",
    "import cv2\n",
    "import mediapipe as mp\n",
    "import os\n",
    "from sklearn.model_selection import train_test_split\n",
    "from sklearn.ensemble import RandomForestClassifier\n",
    "from sklearn.metrics import accuracy_score, classification_report\n",
    "import matplotlib.pyplot as plt\n",
    "from collections import defaultdict\n",
    "import warnings\n",
    "warnings.filterwarnings('ignore')"
   ]
  },
  {
   "cell_type": "code",
   "execution_count": 2,
   "id": "081acafc",
   "metadata": {},
   "outputs": [
    {
     "name": "stderr",
     "output_type": "stream",
     "text": [
      "WARNING: All log messages before absl::InitializeLog() is called are written to STDERR\n",
      "I0000 00:00:1752024605.365248  132914 gl_context.cc:357] GL version: 2.1 (2.1 Metal - 89.3), renderer: Apple M2\n"
     ]
    },
    {
     "name": "stderr",
     "output_type": "stream",
     "text": [
      "INFO: Created TensorFlow Lite XNNPACK delegate for CPU.\n",
      "W0000 00:00:1752024605.374460  133270 inference_feedback_manager.cc:114] Feedback manager requires a model with a single signature inference. Disabling support for feedback tensors.\n",
      "W0000 00:00:1752024605.382043  133274 inference_feedback_manager.cc:114] Feedback manager requires a model with a single signature inference. Disabling support for feedback tensors.\n"
     ]
    }
   ],
   "source": [
    "# Initialize MediaPipe\n",
    "mp_hands = mp.solutions.hands\n",
    "mp_drawing = mp.solutions.drawing_utils\n",
    "hands = mp_hands.Hands(\n",
    "    static_image_mode=True,\n",
    "    max_num_hands=1,\n",
    "    min_detection_confidence=0.5\n",
    ")"
   ]
  },
  {
   "cell_type": "code",
   "execution_count": 3,
   "id": "160e0734",
   "metadata": {},
   "outputs": [],
   "source": [
    "def extract_landmarks(image_path):\n",
    "    \"\"\"Extract hand landmarks from an image\"\"\"\n",
    "    try:\n",
    "        # Read image\n",
    "        image = cv2.imread(image_path)\n",
    "        if image is None:\n",
    "            return None\n",
    "        \n",
    "        # Convert BGR to RGB\n",
    "        image_rgb = cv2.cvtColor(image, cv2.COLOR_BGR2RGB)\n",
    "        \n",
    "        # Process image with MediaPipe\n",
    "        results = hands.process(image_rgb)\n",
    "        \n",
    "        if results.multi_hand_landmarks:\n",
    "            # Get landmarks from the first detected hand\n",
    "            landmarks = results.multi_hand_landmarks[0]\n",
    "            \n",
    "            # Extract 3D coordinates (x, y, z) for all 21 landmarks\n",
    "            landmark_features = []\n",
    "            for landmark in landmarks.landmark:\n",
    "                landmark_features.extend([landmark.x, landmark.y, landmark.z])\n",
    "            \n",
    "            return np.array(landmark_features)\n",
    "        else:\n",
    "            return None\n",
    "            \n",
    "    except Exception as e:\n",
    "        print(f\"Error processing {image_path}: {e}\")\n",
    "        return None"
   ]
  },
  {
   "cell_type": "code",
   "execution_count": 4,
   "id": "9831de20",
   "metadata": {},
   "outputs": [],
   "source": [
    "def load_dataset(data_path, dataset_type='alphabet'):\n",
    "    \"\"\"Load dataset and extract landmarks\"\"\"\n",
    "    features = []\n",
    "    labels = []\n",
    "    \n",
    "    print(f\"Loading {dataset_type} dataset...\")\n",
    "    \n",
    "    # Get all subdirectories (classes)\n",
    "    classes = sorted([d for d in os.listdir(data_path) if os.path.isdir(os.path.join(data_path, d))])\n",
    "    \n",
    "    for class_name in classes:\n",
    "        class_path = os.path.join(data_path, class_name)\n",
    "        print(f\"Processing class: {class_name}\")\n",
    "        \n",
    "        # Get all images in this class\n",
    "        image_files = [f for f in os.listdir(class_path) if f.endswith('.jpeg')]\n",
    "        \n",
    "        for image_file in image_files:\n",
    "            image_path = os.path.join(class_path, image_file)\n",
    "            landmarks = extract_landmarks(image_path)\n",
    "            \n",
    "            if landmarks is not None:\n",
    "                features.append(landmarks)\n",
    "                labels.append(class_name)\n",
    "        \n",
    "        print(f\"  - {class_name}: {len([f for f in os.listdir(class_path) if f.endswith('.jpeg')])} images processed\")\n",
    "    \n",
    "    return np.array(features), np.array(labels)"
   ]
  },
  {
   "cell_type": "code",
   "execution_count": 5,
   "id": "66802171",
   "metadata": {},
   "outputs": [
    {
     "name": "stdout",
     "output_type": "stream",
     "text": [
      "=== Loading Alphabet Dataset ===\n",
      "Loading alphabet dataset...\n",
      "Processing class: a\n",
      "  - a: 70 images processed\n",
      "Processing class: b\n",
      "  - b: 70 images processed\n",
      "Processing class: c\n",
      "  - c: 70 images processed\n",
      "Processing class: d\n",
      "  - d: 70 images processed\n",
      "Processing class: e\n",
      "  - e: 70 images processed\n",
      "Processing class: f\n",
      "  - f: 70 images processed\n",
      "Processing class: g\n",
      "  - g: 70 images processed\n",
      "Processing class: h\n",
      "  - h: 70 images processed\n",
      "Processing class: i\n",
      "  - i: 70 images processed\n",
      "Processing class: j\n",
      "  - j: 70 images processed\n",
      "Processing class: k\n",
      "  - k: 70 images processed\n",
      "Processing class: l\n",
      "  - l: 70 images processed\n",
      "Processing class: m\n",
      "  - m: 70 images processed\n",
      "Processing class: n\n",
      "  - n: 70 images processed\n",
      "Processing class: o\n",
      "  - o: 70 images processed\n",
      "Processing class: p\n",
      "  - p: 70 images processed\n",
      "Processing class: q\n",
      "  - q: 70 images processed\n",
      "Processing class: r\n",
      "  - r: 70 images processed\n",
      "Processing class: s\n",
      "  - s: 70 images processed\n",
      "Processing class: t\n",
      "  - t: 65 images processed\n",
      "Processing class: u\n",
      "  - u: 70 images processed\n",
      "Processing class: v\n",
      "  - v: 70 images processed\n",
      "Processing class: w\n",
      "  - w: 70 images processed\n",
      "Processing class: x\n",
      "  - x: 70 images processed\n",
      "Processing class: y\n",
      "  - y: 70 images processed\n",
      "Processing class: z\n",
      "  - z: 70 images processed\n",
      "Alphabet dataset shape: (1029, 63)\n",
      "Alphabet labels shape: (1029,)\n",
      "Unique alphabet classes: 26\n",
      "Alphabet classes: [np.str_('a'), np.str_('b'), np.str_('c'), np.str_('d'), np.str_('e'), np.str_('f'), np.str_('g'), np.str_('h'), np.str_('i'), np.str_('j'), np.str_('k'), np.str_('l'), np.str_('m'), np.str_('n'), np.str_('o'), np.str_('p'), np.str_('q'), np.str_('r'), np.str_('s'), np.str_('t'), np.str_('u'), np.str_('v'), np.str_('w'), np.str_('x'), np.str_('y'), np.str_('z')]\n"
     ]
    }
   ],
   "source": [
    "# Load alphabet dataset\n",
    "print(\"=== Loading Alphabet Dataset ===\")\n",
    "alphabet_features, alphabet_labels = load_dataset('data/alphabet', 'alphabet')\n",
    "print(f\"Alphabet dataset shape: {alphabet_features.shape}\")\n",
    "print(f\"Alphabet labels shape: {alphabet_labels.shape}\")\n",
    "print(f\"Unique alphabet classes: {len(np.unique(alphabet_labels))}\")\n",
    "print(f\"Alphabet classes: {sorted(np.unique(alphabet_labels))}\")"
   ]
  },
  {
   "cell_type": "code",
   "execution_count": 6,
   "id": "78032fe2",
   "metadata": {},
   "outputs": [
    {
     "name": "stdout",
     "output_type": "stream",
     "text": [
      "\n",
      "=== Loading Number Dataset ===\n",
      "Loading number dataset...\n",
      "Processing class: 0\n",
      "  - 0: 70 images processed\n",
      "Processing class: 1\n",
      "  - 1: 70 images processed\n",
      "Processing class: 2\n",
      "  - 2: 70 images processed\n",
      "Processing class: 3\n",
      "  - 3: 70 images processed\n",
      "Processing class: 4\n",
      "  - 4: 70 images processed\n",
      "Processing class: 5\n",
      "  - 5: 70 images processed\n",
      "Processing class: 6\n",
      "  - 6: 70 images processed\n",
      "Processing class: 7\n",
      "  - 7: 70 images processed\n",
      "Processing class: 8\n",
      "  - 8: 70 images processed\n",
      "Processing class: 9\n",
      "  - 9: 70 images processed\n",
      "Processing class: asl_dataset\n",
      "  - asl_dataset: 0 images processed\n",
      "Number dataset shape: (592, 63)\n",
      "Number labels shape: (592,)\n",
      "Unique number classes: 10\n",
      "Number classes: [np.str_('0'), np.str_('1'), np.str_('2'), np.str_('3'), np.str_('4'), np.str_('5'), np.str_('6'), np.str_('7'), np.str_('8'), np.str_('9')]\n"
     ]
    }
   ],
   "source": [
    "# Load number dataset\n",
    "print(\"\\n=== Loading Number Dataset ===\")\n",
    "number_features, number_labels = load_dataset('data/number', 'number')\n",
    "print(f\"Number dataset shape: {number_features.shape}\")\n",
    "print(f\"Number labels shape: {number_labels.shape}\")\n",
    "print(f\"Unique number classes: {len(np.unique(number_labels))}\")\n",
    "print(f\"Number classes: {sorted(np.unique(number_labels))}\")"
   ]
  },
  {
   "cell_type": "code",
   "execution_count": 7,
   "id": "a9b2c8c4",
   "metadata": {},
   "outputs": [
    {
     "name": "stdout",
     "output_type": "stream",
     "text": [
      "\n",
      "=== Combining Datasets ===\n",
      "Combined dataset shape: (1621, 63)\n",
      "Combined labels shape: (1621,)\n",
      "Total unique classes: 36\n",
      "\n",
      "Class distribution:\n",
      "  0: 29 samples\n",
      "  1: 60 samples\n",
      "  2: 49 samples\n",
      "  3: 68 samples\n",
      "  4: 69 samples\n",
      "  5: 70 samples\n",
      "  6: 51 samples\n",
      "  7: 65 samples\n",
      "  8: 61 samples\n",
      "  9: 70 samples\n",
      "  a: 15 samples\n",
      "  b: 65 samples\n",
      "  c: 33 samples\n",
      "  d: 66 samples\n",
      "  e: 22 samples\n",
      "  f: 68 samples\n",
      "  g: 53 samples\n",
      "  h: 46 samples\n",
      "  i: 53 samples\n",
      "  j: 13 samples\n",
      "  k: 67 samples\n",
      "  l: 68 samples\n",
      "  m: 8 samples\n",
      "  n: 11 samples\n",
      "  o: 15 samples\n",
      "  p: 48 samples\n",
      "  q: 13 samples\n",
      "  r: 52 samples\n",
      "  s: 12 samples\n",
      "  t: 1 samples\n",
      "  u: 63 samples\n",
      "  v: 52 samples\n",
      "  w: 49 samples\n",
      "  x: 47 samples\n",
      "  y: 35 samples\n",
      "  z: 54 samples\n"
     ]
    }
   ],
   "source": [
    "# Combine datasets\n",
    "print(\"\\n=== Combining Datasets ===\")\n",
    "all_features = np.vstack([alphabet_features, number_features])\n",
    "all_labels = np.concatenate([alphabet_labels, number_labels])\n",
    "\n",
    "print(f\"Combined dataset shape: {all_features.shape}\")\n",
    "print(f\"Combined labels shape: {all_labels.shape}\")\n",
    "print(f\"Total unique classes: {len(np.unique(all_labels))}\")\n",
    "\n",
    "# Show class distribution\n",
    "unique_labels, counts = np.unique(all_labels, return_counts=True)\n",
    "print(\"\\nClass distribution:\")\n",
    "for label, count in zip(unique_labels, counts):\n",
    "    print(f\"  {label}: {count} samples\")"
   ]
  },
  {
   "cell_type": "code",
   "execution_count": 9,
   "id": "cdad7fb0",
   "metadata": {},
   "outputs": [
    {
     "name": "stdout",
     "output_type": "stream",
     "text": [
      "Filtered dataset shape: (1620, 63)\n",
      "Valid classes: 35\n",
      "Training set shape: (1296, 63)\n",
      "Test set shape: (324, 63)\n",
      "Training labels shape: (1296,)\n",
      "Test labels shape: (324,)\n"
     ]
    }
   ],
   "source": [
    "# Filter out classes with too few samples for stratified split\n",
    "unique_labels, counts = np.unique(all_labels, return_counts=True)\n",
    "valid_classes = unique_labels[counts >= 2]  # Keep only classes with 2+ samples\n",
    "\n",
    "# Filter data to include only valid classes\n",
    "valid_mask = np.isin(all_labels, valid_classes)\n",
    "filtered_features = all_features[valid_mask]\n",
    "filtered_labels = all_labels[valid_mask]\n",
    "\n",
    "print(f\"Filtered dataset shape: {filtered_features.shape}\")\n",
    "print(f\"Valid classes: {len(valid_classes)}\")\n",
    "\n",
    "# Split dataset into train and test sets\n",
    "X_train, X_test, y_train, y_test = train_test_split(\n",
    "    filtered_features, filtered_labels, test_size=0.2, random_state=42, stratify=filtered_labels\n",
    ")\n",
    "\n",
    "print(f\"Training set shape: {X_train.shape}\")\n",
    "print(f\"Test set shape: {X_test.shape}\")\n",
    "print(f\"Training labels shape: {y_train.shape}\")\n",
    "print(f\"Test labels shape: {y_test.shape}\")"
   ]
  },
  {
   "cell_type": "code",
   "execution_count": 10,
   "id": "aeb910ec",
   "metadata": {},
   "outputs": [
    {
     "name": "stdout",
     "output_type": "stream",
     "text": [
      "\n",
      "=== Training Model ===\n",
      "Model training completed!\n"
     ]
    }
   ],
   "source": [
    "# Train Random Forest Classifier\n",
    "print(\"\\n=== Training Model ===\")\n",
    "rf_classifier = RandomForestClassifier(\n",
    "    n_estimators=100,\n",
    "    max_depth=10,\n",
    "    random_state=42,\n",
    "    n_jobs=-1\n",
    ")\n",
    "\n",
    "rf_classifier.fit(X_train, y_train)\n",
    "print(\"Model training completed!\")"
   ]
  },
  {
   "cell_type": "code",
   "execution_count": 11,
   "id": "614a1a23",
   "metadata": {},
   "outputs": [
    {
     "name": "stdout",
     "output_type": "stream",
     "text": [
      "\n",
      "=== Model Evaluation ===\n",
      "Accuracy: 0.9444\n",
      "Accuracy percentage: 94.44%\n",
      "\n",
      "Classification Report:\n",
      "              precision    recall  f1-score   support\n",
      "\n",
      "           0       0.86      1.00      0.92         6\n",
      "           1       1.00      1.00      1.00        12\n",
      "           2       0.82      0.90      0.86        10\n",
      "           3       1.00      1.00      1.00        14\n",
      "           4       0.88      1.00      0.93        14\n",
      "           5       1.00      0.86      0.92        14\n",
      "           6       0.69      0.90      0.78        10\n",
      "           7       0.92      0.92      0.92        13\n",
      "           8       0.92      0.92      0.92        12\n",
      "           9       1.00      1.00      1.00        14\n",
      "           a       0.67      0.67      0.67         3\n",
      "           b       1.00      1.00      1.00        13\n",
      "           c       1.00      1.00      1.00         6\n",
      "           d       1.00      1.00      1.00        13\n",
      "           e       0.80      1.00      0.89         4\n",
      "           f       1.00      1.00      1.00        14\n",
      "           g       1.00      1.00      1.00        11\n",
      "           h       1.00      1.00      1.00         9\n",
      "           i       0.92      1.00      0.96        11\n",
      "           j       1.00      0.67      0.80         3\n",
      "           k       1.00      1.00      1.00        13\n",
      "           l       1.00      1.00      1.00        14\n",
      "           m       1.00      0.50      0.67         2\n",
      "           n       1.00      1.00      1.00         2\n",
      "           o       1.00      0.67      0.80         3\n",
      "           p       1.00      1.00      1.00        10\n",
      "           q       1.00      1.00      1.00         2\n",
      "           r       0.91      1.00      0.95        10\n",
      "           s       1.00      0.50      0.67         2\n",
      "           u       0.93      1.00      0.96        13\n",
      "           v       1.00      0.70      0.82        10\n",
      "           w       0.86      0.60      0.71        10\n",
      "           x       0.90      1.00      0.95         9\n",
      "           y       1.00      1.00      1.00         7\n",
      "           z       1.00      1.00      1.00        11\n",
      "\n",
      "    accuracy                           0.94       324\n",
      "   macro avg       0.94      0.91      0.92       324\n",
      "weighted avg       0.95      0.94      0.94       324\n",
      "\n"
     ]
    }
   ],
   "source": [
    "# Evaluate model\n",
    "print(\"\\n=== Model Evaluation ===\")\n",
    "y_pred = rf_classifier.predict(X_test)\n",
    "accuracy = accuracy_score(y_test, y_pred)\n",
    "\n",
    "print(f\"Accuracy: {accuracy:.4f}\")\n",
    "print(f\"Accuracy percentage: {accuracy * 100:.2f}%\")\n",
    "\n",
    "# Detailed classification report\n",
    "print(\"\\nClassification Report:\")\n",
    "print(classification_report(y_test, y_pred))"
   ]
  },
  {
   "cell_type": "code",
   "execution_count": 12,
   "id": "55769e47",
   "metadata": {},
   "outputs": [
    {
     "name": "stdout",
     "output_type": "stream",
     "text": [
      "\n",
      "=== Feature Importance Analysis ===\n",
      "Feature importance shape: (63,)\n"
     ]
    },
    {
     "data": {
      "image/png": "[encoded data removed]",
      "text/plain": [
       "<Figure size 1500x600 with 2 Axes>"
      ]
     },
     "metadata": {},
     "output_type": "display_data"
    }
   ],
   "source": [
    "# Feature importance analysis\n",
    "print(\"\\n=== Feature Importance Analysis ===\")\n",
    "feature_importance = rf_classifier.feature_importances_\n",
    "print(f\"Feature importance shape: {feature_importance.shape}\")\n",
    "\n",
    "# Plot feature importance for first 10 landmarks (30 features: x,y,z for each landmark)\n",
    "plt.figure(figsize=(15, 6))\n",
    "landmark_names = [f\"Landmark_{i//3}_{['x', 'y', 'z'][i%3]}\" for i in range(63)]\n",
    "\n",
    "plt.subplot(1, 2, 1)\n",
    "plt.bar(range(30), feature_importance[:30])\n",
    "plt.title('Feature Importance - First 10 Landmarks')\n",
    "plt.xlabel('Feature Index')\n",
    "plt.ylabel('Importance')\n",
    "\n",
    "plt.subplot(1, 2, 2)\n",
    "plt.bar(range(30, 63), feature_importance[30:])\n",
    "plt.title('Feature Importance - Remaining Landmarks')\n",
    "plt.xlabel('Feature Index')\n",
    "plt.ylabel('Importance')\n",
    "\n",
    "plt.tight_layout()\n",
    "plt.show()"
   ]
  },
  {
   "cell_type": "code",
   "execution_count": 13,
   "id": "b8c378f8",
   "metadata": {},
   "outputs": [
    {
     "name": "stdout",
     "output_type": "stream",
     "text": [
      "\n",
      "=== Saving Model and Data ===\n",
      "Model saved as 'asl_model.pkl'\n",
      "Data saved as 'asl_data.pkl'\n",
      "\n",
      "Training completed successfully!\n"
     ]
    }
   ],
   "source": [
    "# Save the model and data\n",
    "print(\"\\n=== Saving Model and Data ===\")\n",
    "\n",
    "# Save model\n",
    "with open('asl_model.pkl', 'wb') as f:\n",
    "    pickle.dump(rf_classifier, f)\n",
    "print(\"Model saved as 'asl_model.pkl'\")\n",
    "\n",
    "# Save processed data\n",
    "data_dict = {\n",
    "    'features': all_features,\n",
    "    'labels': all_labels,\n",
    "    'X_train': X_train,\n",
    "    'X_test': X_test,\n",
    "    'y_train': y_train,\n",
    "    'y_test': y_test,\n",
    "    'feature_importance': feature_importance\n",
    "}\n",
    "\n",
    "with open('asl_data.pkl', 'wb') as f:\n",
    "    pickle.dump(data_dict, f)\n",
    "print(\"Data saved as 'asl_data.pkl'\")\n",
    "\n",
    "print(\"\\nTraining completed successfully!\")"
   ]
  },
  {
   "cell_type": "code",
   "execution_count": 14,
   "id": "9e95c7a9",
   "metadata": {},
   "outputs": [
    {
     "name": "stdout",
     "output_type": "stream",
     "text": [
      "Sample prediction: a (confidence: 0.6304)\n"
     ]
    }
   ],
   "source": [
    "# Test prediction function\n",
    "def predict_asl(image_path, model):\n",
    "    \"\"\"Predict ASL sign from an image\"\"\"\n",
    "    landmarks = extract_landmarks(image_path)\n",
    "    if landmarks is not None:\n",
    "        prediction = model.predict([landmarks])[0]\n",
    "        probability = model.predict_proba([landmarks])[0]\n",
    "        max_prob = np.max(probability)\n",
    "        return prediction, max_prob\n",
    "    else:\n",
    "        return None, None\n",
    "\n",
    "# Test with a sample image\n",
    "sample_image = \"data/alphabet/a/hand1_a_bot_seg_1_cropped.jpeg\"\n",
    "if os.path.exists(sample_image):\n",
    "    prediction, confidence = predict_asl(sample_image, rf_classifier)\n",
    "    print(f\"Sample prediction: {prediction} (confidence: {confidence:.4f})\")\n",
    "else:\n",
    "    print(\"Sample image not found\")"
   ]
  }
 ],
 "metadata": {
  "kernelspec": {
   "display_name": "venv",
   "language": "python",
   "name": "python3"
  },
  "language_info": {
   "codemirror_mode": {
    "name": "ipython",
    "version": 3
   },
   "file_extension": ".py",
   "mimetype": "text/x-python",
   "name": "python",
   "nbconvert_exporter": "python",
   "pygments_lexer": "ipython3",
   "version": "3.12.11"
  }
 },
 "nbformat": 4,
 "nbformat_minor": 5
}
